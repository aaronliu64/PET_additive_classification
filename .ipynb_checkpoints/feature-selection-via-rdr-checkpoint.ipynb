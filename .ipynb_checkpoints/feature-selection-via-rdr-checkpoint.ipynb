{
 "cells": [
  {
   "cell_type": "markdown",
   "metadata": {},
   "source": [
    "## Feature Selection with alvaDesc Fingerprints\n",
    "\n",
    "**Authors**: Aaron Liu, Rahul Venkatesh, Mike McBride, Martha Grover, Carson Meredith, Elsa Reichmanis\n",
    "\n",
    "This code uses a reduced design region approach (McBride, M., *et al.* (2018). **Processes** 6(7)) to analyze a small database  of PET-additive samples for improved tenacity persistence. The main goal is to identify the most important features indicative of a high-performing molecular structure."
   ]
  },
  {
   "cell_type": "code",
   "execution_count": 1,
   "metadata": {},
   "outputs": [],
   "source": [
    "#Import libraries\n",
    "import pylab as plt\n",
    "import numpy as np\n",
    "import pandas as pd\n",
    "\n",
    "#Set font options\n",
    "font = {'family' : 'arial',\n",
    "        'weight' : 'bold',\n",
    "        'size'   : 16}\n",
    "\n",
    "plt.rc('font', **font)"
   ]
  },
  {
   "cell_type": "markdown",
   "metadata": {},
   "source": [
    "Import file containing data points. Since this database is quite small, the data was extracted manually and inputted into a .csv file"
   ]
  },
  {
   "cell_type": "code",
   "execution_count": 2,
   "metadata": {},
   "outputs": [],
   "source": [
    "#Import file\n",
    "filename = 'data/PETadditives_database_and_descriptors.csv'\n",
    "df = pd.read_csv(filename)\n",
    "\n",
    "#Apply dataset-specific filtering\n",
    "def filter_dataset(df):\n",
    "    \n",
    "    criteria1 = df['Addition Method']==\"A\"\n",
    "    criteria2 = df['Amount Added']==0.25\n",
    "    df_filtered = df[criteria1&criteria2]\n",
    "    df_filtered = df_filtered.sort_values(by=['wet 3 day'])\n",
    "    response = \"wet 3 day\"\n",
    "    y = df_filtered[response].values\n",
    "    X = df_filtered.iloc[:,10:].values #descriptors\n",
    "    df_X = df_filtered.iloc[:,10:]\n",
    "    molecules = df_filtered['NAME']\n",
    "    \n",
    "    return df_X, molecules, X, y\n",
    "\n",
    "df_X, molecules, X, y = filter_dataset(df)\n",
    "\n",
    "#Assign labels based on a threshold\n",
    "critical_threshold = 64\n",
    "labels = y>critical_threshold"
   ]
  },
  {
   "cell_type": "markdown",
   "metadata": {},
   "source": [
    "Helper functions for reduced design region approach:"
   ]
  },
  {
   "cell_type": "code",
   "execution_count": 3,
   "metadata": {},
   "outputs": [],
   "source": [
    "def reduced_points(df_X, labels):\n",
    "    X_reduced = df_X[labels==True]\n",
    "    y_reduced = y[labels==True]\n",
    "    return X_reduced, y_reduced\n",
    "\n",
    "def design_range_limits(X_reduced):\n",
    "    upperlims = np.max(X_reduced)\n",
    "    lowerlims = np.min(X_reduced)\n",
    "    ranges = upperlims - lowerlims\n",
    "    design_region = pd.DataFrame([lowerlims,upperlims])\n",
    "    design_region = design_region.rename({0: 'lowerbound', 1: 'upperbound'}, axis='index')\n",
    "    return design_region\n",
    "\n",
    "def rdr_predict(new_points, design_region): #new_points should have same column names as design_region\n",
    "    isInRange = (new_points >= design_region.loc['lowerbound']) == (new_points <= design_region.loc['upperbound'])\n",
    "    y_predict = np.all(isInRange,axis=1)\n",
    "    # print(isInRange)\n",
    "    return y_predict.values"
   ]
  },
  {
   "cell_type": "code",
   "execution_count": 4,
   "metadata": {},
   "outputs": [
    {
     "name": "stdout",
     "output_type": "stream",
     "text": [
      "(8, 1875)\n",
      "(8,)\n"
     ]
    }
   ],
   "source": [
    "X_reduced, y_reduced = reduced_points(df_X, labels)\n",
    "\n",
    "print(X_reduced.shape)\n",
    "print(y_reduced.shape)"
   ]
  },
  {
   "cell_type": "markdown",
   "metadata": {},
   "source": [
    "The `design_region` variable contains the boundaries of the reduced design region bounded by considering only the high points:"
   ]
  },
  {
   "cell_type": "code",
   "execution_count": 5,
   "metadata": {},
   "outputs": [
    {
     "data": {
      "text/html": [
       "<div>\n",
       "<style scoped>\n",
       "    .dataframe tbody tr th:only-of-type {\n",
       "        vertical-align: middle;\n",
       "    }\n",
       "\n",
       "    .dataframe tbody tr th {\n",
       "        vertical-align: top;\n",
       "    }\n",
       "\n",
       "    .dataframe thead th {\n",
       "        text-align: right;\n",
       "    }\n",
       "</style>\n",
       "<table border=\"1\" class=\"dataframe\">\n",
       "  <thead>\n",
       "    <tr style=\"text-align: right;\">\n",
       "      <th></th>\n",
       "      <th>MW</th>\n",
       "      <th>AMW</th>\n",
       "      <th>Sv</th>\n",
       "      <th>Se</th>\n",
       "      <th>Sp</th>\n",
       "      <th>Si</th>\n",
       "      <th>Mv</th>\n",
       "      <th>Me</th>\n",
       "      <th>Mp</th>\n",
       "      <th>Mi</th>\n",
       "      <th>...</th>\n",
       "      <th>BLTA96</th>\n",
       "      <th>DLS_01</th>\n",
       "      <th>DLS_02</th>\n",
       "      <th>DLS_03</th>\n",
       "      <th>DLS_04</th>\n",
       "      <th>DLS_05</th>\n",
       "      <th>DLS_06</th>\n",
       "      <th>DLS_cons</th>\n",
       "      <th>LLS_01</th>\n",
       "      <th>LLS_02</th>\n",
       "    </tr>\n",
       "  </thead>\n",
       "  <tbody>\n",
       "    <tr>\n",
       "      <th>lowerbound</th>\n",
       "      <td>121.15</td>\n",
       "      <td>6.893846</td>\n",
       "      <td>10.3166</td>\n",
       "      <td>16.0799</td>\n",
       "      <td>10.7444</td>\n",
       "      <td>17.9533</td>\n",
       "      <td>0.600454</td>\n",
       "      <td>1.002231</td>\n",
       "      <td>0.633965</td>\n",
       "      <td>1.099150</td>\n",
       "      <td>...</td>\n",
       "      <td>-4.366459</td>\n",
       "      <td>1.0</td>\n",
       "      <td>0.833333</td>\n",
       "      <td>0.833333</td>\n",
       "      <td>0.4</td>\n",
       "      <td>0.0</td>\n",
       "      <td>1.0</td>\n",
       "      <td>0.752381</td>\n",
       "      <td>0.333333</td>\n",
       "      <td>1.0</td>\n",
       "    </tr>\n",
       "    <tr>\n",
       "      <th>upperbound</th>\n",
       "      <td>312.40</td>\n",
       "      <td>9.326364</td>\n",
       "      <td>26.9284</td>\n",
       "      <td>43.1379</td>\n",
       "      <td>28.2275</td>\n",
       "      <td>48.3616</td>\n",
       "      <td>0.723717</td>\n",
       "      <td>1.048264</td>\n",
       "      <td>0.729242</td>\n",
       "      <td>1.131088</td>\n",
       "      <td>...</td>\n",
       "      <td>-2.364410</td>\n",
       "      <td>1.0</td>\n",
       "      <td>1.000000</td>\n",
       "      <td>1.000000</td>\n",
       "      <td>1.0</td>\n",
       "      <td>1.0</td>\n",
       "      <td>1.0</td>\n",
       "      <td>0.952381</td>\n",
       "      <td>1.000000</td>\n",
       "      <td>1.0</td>\n",
       "    </tr>\n",
       "  </tbody>\n",
       "</table>\n",
       "<p>2 rows × 1875 columns</p>\n",
       "</div>"
      ],
      "text/plain": [
       "                MW       AMW       Sv       Se       Sp       Si        Mv  \\\n",
       "lowerbound  121.15  6.893846  10.3166  16.0799  10.7444  17.9533  0.600454   \n",
       "upperbound  312.40  9.326364  26.9284  43.1379  28.2275  48.3616  0.723717   \n",
       "\n",
       "                  Me        Mp        Mi  ...    BLTA96  DLS_01    DLS_02  \\\n",
       "lowerbound  1.002231  0.633965  1.099150  ... -4.366459     1.0  0.833333   \n",
       "upperbound  1.048264  0.729242  1.131088  ... -2.364410     1.0  1.000000   \n",
       "\n",
       "              DLS_03  DLS_04  DLS_05  DLS_06  DLS_cons    LLS_01  LLS_02  \n",
       "lowerbound  0.833333     0.4     0.0     1.0  0.752381  0.333333     1.0  \n",
       "upperbound  1.000000     1.0     1.0     1.0  0.952381  1.000000     1.0  \n",
       "\n",
       "[2 rows x 1875 columns]"
      ]
     },
     "execution_count": 5,
     "metadata": {},
     "output_type": "execute_result"
    }
   ],
   "source": [
    "design_region = design_range_limits(X_reduced)\n",
    "design_region\n"
   ]
  },
  {
   "cell_type": "markdown",
   "metadata": {},
   "source": [
    "The individual features can be scored based on the volumetric reduction of the design space ($r_s$), as well as how the observations fall within the reduced design region ($F_r$):"
   ]
  },
  {
   "cell_type": "code",
   "execution_count": 6,
   "metadata": {},
   "outputs": [
    {
     "data": {
      "image/png": "[encoded data removed]",
      "text/plain": [
       "<Figure size 576x504 with 1 Axes>"
      ]
     },
     "metadata": {
      "needs_background": "light"
     },
     "output_type": "display_data"
    }
   ],
   "source": [
    "##Calculate rs and Fr (whole dataset)\n",
    "\n",
    "#Volumetric design region reduction\n",
    "volume_total = np.max(df_X)-np.min(df_X)\n",
    "volume_reduced = design_region.loc['upperbound'] - design_region.loc['lowerbound']\n",
    "rs = volume_reduced/volume_total\n",
    "\n",
    "#Fractional exclusion of low points\n",
    "isInRange = (df_X >= design_region.loc['lowerbound']) == (df_X <= design_region.loc['upperbound'])\n",
    "Fr = np.sum(isInRange)/len(labels)\n",
    "\n",
    "#PLot\n",
    "fig, ax = plt.subplots(figsize=(8,7))\n",
    "ax.scatter(rs,Fr,alpha=0.2)\n",
    "ax.set(xlabel='$r_s$', ylabel='$F_r$', ylim=[0.2,1.02]);"
   ]
  },
  {
   "cell_type": "markdown",
   "metadata": {},
   "source": [
    "Here, we perform bootstrapping by incorporating leave-one-out partitioning. Each subset is evaluated for the design region metrics, and the features with the best metrics are counted for each subset. The best features will appear as good features for all or almost all subsets:"
   ]
  },
  {
   "cell_type": "code",
   "execution_count": 7,
   "metadata": {},
   "outputs": [
    {
     "name": "stdout",
     "output_type": "stream",
     "text": [
      "Processing partition number: [1]/39 .............\n",
      "Processing partition number: [2]/39 .............\n",
      "Processing partition number: [3]/39 .............\n",
      "Processing partition number: [4]/39 .............\n",
      "Processing partition number: [5]/39 .............\n",
      "Processing partition number: [6]/39 .............\n",
      "Processing partition number: [7]/39 .............\n",
      "Processing partition number: [8]/39 .............\n",
      "Processing partition number: [9]/39 .............\n",
      "Processing partition number: [10]/39 .............\n",
      "Processing partition number: [11]/39 .............\n",
      "Processing partition number: [12]/39 .............\n",
      "Processing partition number: [13]/39 .............\n",
      "Processing partition number: [14]/39 .............\n",
      "Processing partition number: [15]/39 .............\n",
      "Processing partition number: [16]/39 .............\n",
      "Processing partition number: [17]/39 .............\n",
      "Processing partition number: [18]/39 .............\n",
      "Processing partition number: [19]/39 .............\n",
      "Processing partition number: [20]/39 .............\n",
      "Processing partition number: [21]/39 .............\n",
      "Processing partition number: [22]/39 .............\n",
      "Processing partition number: [23]/39 .............\n",
      "Processing partition number: [24]/39 .............\n",
      "Processing partition number: [25]/39 .............\n",
      "Processing partition number: [26]/39 .............\n",
      "Processing partition number: [27]/39 .............\n",
      "Processing partition number: [28]/39 .............\n",
      "Processing partition number: [29]/39 .............\n",
      "Processing partition number: [30]/39 .............\n",
      "Processing partition number: [31]/39 .............\n",
      "Processing partition number: [32]/39 .............\n",
      "Processing partition number: [33]/39 .............\n",
      "Processing partition number: [34]/39 .............\n",
      "Processing partition number: [35]/39 .............\n",
      "Processing partition number: [36]/39 .............\n",
      "Processing partition number: [37]/39 .............\n",
      "Processing partition number: [38]/39 .............\n",
      "Processing partition number: [39]/39 .............\n",
      "Done\n",
      "['BIC4' 'BIC5' 'CIC3' 'CIC4' 'CIC5' 'Eta_sh_p' 'GATS4i' 'GATS6e' 'GATS6s'\n",
      " 'H-047' 'JGI4' 'MATS1e' 'MATS2v' 'MATS6s' 'P_VSA_ppp_L' 'SIC3' 'SIC4'\n",
      " 'SIC5']\n"
     ]
    }
   ],
   "source": [
    "from sklearn.model_selection import LeaveOneOut\n",
    "\n",
    "def featureselection(df_X, labels, rs_lim = 0.5, Fr_lim = 0.5):\n",
    "    \n",
    "    #Matrix with design region values of high points only\n",
    "    high_points = df_X[labels]\n",
    "    upperlims = np.max(high_points)\n",
    "    lowerlims = np.min(high_points)\n",
    "    \n",
    "    #Volumetric reduction metric\n",
    "    r_s = (upperlims-lowerlims)/(np.max(df_X)-np.min(df_X))\n",
    "\n",
    "    #Fractional reduction metric\n",
    "    isInRange = (df_X >= lowerlims) == (df_X <= upperlims)\n",
    "    Fr = np.sum(isInRange)/len(labels)\n",
    "    \n",
    "    #Feature selection criteria\n",
    "    a = (r_s < rs_lim) & (Fr < Fr_lim) #Can be changed for sensitivity\n",
    "    bestfeatures = df_X.columns[a]\n",
    "    \n",
    "    return bestfeatures, r_s, Fr\n",
    "\n",
    "loo = LeaveOneOut()\n",
    "# loo.get_n_splits(X)\n",
    "df_X.reindex(range(len(labels)))\n",
    "\n",
    "feature_array = np.array([])\n",
    "\n",
    "for train_index, test_index in loo.split(df_X):\n",
    "\n",
    "    X_train, X_test = df_X.iloc[train_index], df_X.iloc[test_index]\n",
    "    y_train, y_test = labels[train_index], labels[test_index]\n",
    "    bestfeatures_i, rs_i, Fr_i = featureselection(X_train, y_train,rs_lim=0.3,Fr_lim=0.45)\n",
    "    feature_array = np.append(feature_array,np.array(bestfeatures_i))\n",
    "    print('Processing partition number: {}/{} .............'.format(test_index+1,loo.get_n_splits(df_X)))\n",
    "print('Done')\n",
    "\n",
    "feature_bin, feature_counts = np.unique(feature_array,return_counts=True)\n",
    "best_features = feature_bin[feature_counts >= 38]\n",
    "print(best_features)"
   ]
  },
  {
   "cell_type": "markdown",
   "metadata": {},
   "source": [
    "Here, we can check the correlation matrix for the best identified features:"
   ]
  },
  {
   "cell_type": "code",
   "execution_count": 8,
   "metadata": {},
   "outputs": [
    {
     "data": {
      "image/png": "[encoded data removed]",
      "text/plain": [
       "<Figure size 792x648 with 2 Axes>"
      ]
     },
     "metadata": {
      "needs_background": "light"
     },
     "output_type": "display_data"
    }
   ],
   "source": [
    "import seaborn as sns\n",
    "from sklearn.preprocessing import StandardScaler, MinMaxScaler\n",
    "\n",
    "scaler = MinMaxScaler()\n",
    "df_X_scaled = df_X.copy()\n",
    "df_X_scaled[:] = scaler.fit_transform(df_X)\n",
    "\n",
    "corr = df_X_scaled[best_features].corr()\n",
    "\n",
    "# Generate a mask for the upper triangle\n",
    "mask = np.triu(np.ones_like(corr, dtype=np.bool))\n",
    "\n",
    "# Set up the matplotlib figure\n",
    "f, ax = plt.subplots(figsize=(11, 9))\n",
    "sns.heatmap(corr, \n",
    "            mask=mask, \n",
    "            cmap='RdBu', \n",
    "            vmax=1,\n",
    "            vmin=-1,\n",
    "            center=0,\n",
    "            square=True, \n",
    "            linewidths=.8, \n",
    "            cbar_kws={\"shrink\": .75}\n",
    "           );\n"
   ]
  },
  {
   "cell_type": "markdown",
   "metadata": {},
   "source": [
    "Considering multiple descriptors simultaneously to calculate the classification metrics:"
   ]
  },
  {
   "cell_type": "code",
   "execution_count": 9,
   "metadata": {},
   "outputs": [
    {
     "name": "stdout",
     "output_type": "stream",
     "text": [
      "BIC5 MATS6s    0.205128\n",
      "CIC4 GATS6s    0.205128\n",
      "CIC5 MATS6s    0.205128\n",
      "GATS4i SIC4    0.205128\n",
      "GATS6s SIC4    0.205128\n",
      "MATS6s SIC5    0.205128\n",
      "dtype: float64\n"
     ]
    }
   ],
   "source": [
    "low_points = df_X.loc[labels==False]\n",
    "high_points = df_X.loc[labels==True]\n",
    "\n",
    "upperlims = np.max(high_points)\n",
    "lowerlims = np.min(high_points)\n",
    "isInRange = (df_X >= lowerlims) == (df_X <= upperlims)\n",
    "\n",
    "cols = isInRange[best_features].columns.values\n",
    "corr_vals = []\n",
    "new_cols = []\n",
    "Fr_vals = []\n",
    "for i in range(len(cols)):\n",
    "    for j in range(i+1,len(cols)):\n",
    "        new_cols.append(cols[i]+' '+cols[j])\n",
    "        comparison = (isInRange[cols[i]] & isInRange[cols[j]])*1\n",
    "        Fr_vals.append(sum(comparison/len(comparison)))\n",
    "        corr_vals.append(corr.loc[cols[i],cols[j]])\n",
    "Fr_2D = pd.Series(Fr_vals,index=new_cols)\n",
    "\n",
    "best_pairs = Fr_2D[np.isclose(Fr_2D,min(Fr_2D))]\n",
    "print(best_pairs)"
   ]
  },
  {
   "cell_type": "markdown",
   "metadata": {},
   "source": [
    "Based on the results above (and analyzing the correlation matrix), we see that we only need one information content index (*IC5) , and a couple of the autocorrelations are also redundant.\n",
    "\n",
    "We can select any combination of these, but here we will choose SIC4, GATS4i, and GATS6s. Further explanation of physicochemical interpretation can be found in the manuscript."
   ]
  },
  {
   "cell_type": "code",
   "execution_count": 10,
   "metadata": {},
   "outputs": [
    {
     "data": {
      "text/plain": [
       "[Text(0, 0.5, 'GATS4i'), Text(0.5, 0, 'SIC4')]"
      ]
     },
     "execution_count": 10,
     "metadata": {},
     "output_type": "execute_result"
    },
    {
     "data": {
      "image/png": "[encoded data removed]",
      "text/plain": [
       "<Figure size 576x504 with 1 Axes>"
      ]
     },
     "metadata": {
      "needs_background": "light"
     },
     "output_type": "display_data"
    }
   ],
   "source": [
    "varx = 'SIC4'\n",
    "vary = 'GATS4i'\n",
    "\n",
    "#Reduced design region based on high/low labeling\n",
    "fig, ax = plt.subplots(figsize=(8,7))\n",
    "ax.plot(low_points[varx],low_points[vary],'rx',markersize=8)\n",
    "ax.plot(high_points[varx],high_points[vary],'bs',markersize=10,mec='k')\n",
    "ax.legend(['Low','High'])\n",
    "ax.set(xlabel=varx,ylabel=vary)\n"
   ]
  },
  {
   "cell_type": "markdown",
   "metadata": {},
   "source": [
    "Individually, we can see that the best performers generally do have a constrained design region in SIC4 and GATS4i."
   ]
  },
  {
   "cell_type": "markdown",
   "metadata": {},
   "source": [
    "## Feature Selection with MACCS-166 Fingerprints"
   ]
  },
  {
   "cell_type": "markdown",
   "metadata": {},
   "source": [
    "Below, we perform the same analysis for the MACCS-166 key set as well:"
   ]
  },
  {
   "cell_type": "code",
   "execution_count": 11,
   "metadata": {},
   "outputs": [
    {
     "data": {
      "text/html": [
       "<div>\n",
       "<style scoped>\n",
       "    .dataframe tbody tr th:only-of-type {\n",
       "        vertical-align: middle;\n",
       "    }\n",
       "\n",
       "    .dataframe tbody tr th {\n",
       "        vertical-align: top;\n",
       "    }\n",
       "\n",
       "    .dataframe thead th {\n",
       "        text-align: right;\n",
       "    }\n",
       "</style>\n",
       "<table border=\"1\" class=\"dataframe\">\n",
       "  <thead>\n",
       "    <tr style=\"text-align: right;\">\n",
       "      <th></th>\n",
       "      <th>MACCSFP16</th>\n",
       "      <th>MACCSFP29</th>\n",
       "      <th>MACCSFP47</th>\n",
       "      <th>MACCSFP48</th>\n",
       "      <th>MACCSFP52</th>\n",
       "      <th>MACCSFP54</th>\n",
       "      <th>MACCSFP62</th>\n",
       "      <th>MACCSFP65</th>\n",
       "      <th>MACCSFP67</th>\n",
       "      <th>MACCSFP68</th>\n",
       "      <th>...</th>\n",
       "      <th>MACCSFP156</th>\n",
       "      <th>MACCSFP157</th>\n",
       "      <th>MACCSFP158</th>\n",
       "      <th>MACCSFP159</th>\n",
       "      <th>MACCSFP160</th>\n",
       "      <th>MACCSFP161</th>\n",
       "      <th>MACCSFP162</th>\n",
       "      <th>MACCSFP163</th>\n",
       "      <th>MACCSFP164</th>\n",
       "      <th>MACCSFP165</th>\n",
       "    </tr>\n",
       "  </thead>\n",
       "  <tbody>\n",
       "    <tr>\n",
       "      <th>1</th>\n",
       "      <td>0</td>\n",
       "      <td>0</td>\n",
       "      <td>0</td>\n",
       "      <td>0</td>\n",
       "      <td>0</td>\n",
       "      <td>0</td>\n",
       "      <td>0</td>\n",
       "      <td>0</td>\n",
       "      <td>0</td>\n",
       "      <td>0</td>\n",
       "      <td>...</td>\n",
       "      <td>1</td>\n",
       "      <td>0</td>\n",
       "      <td>1</td>\n",
       "      <td>1</td>\n",
       "      <td>0</td>\n",
       "      <td>1</td>\n",
       "      <td>1</td>\n",
       "      <td>1</td>\n",
       "      <td>1</td>\n",
       "      <td>1</td>\n",
       "    </tr>\n",
       "    <tr>\n",
       "      <th>3</th>\n",
       "      <td>0</td>\n",
       "      <td>0</td>\n",
       "      <td>0</td>\n",
       "      <td>0</td>\n",
       "      <td>0</td>\n",
       "      <td>0</td>\n",
       "      <td>0</td>\n",
       "      <td>0</td>\n",
       "      <td>0</td>\n",
       "      <td>0</td>\n",
       "      <td>...</td>\n",
       "      <td>1</td>\n",
       "      <td>1</td>\n",
       "      <td>1</td>\n",
       "      <td>1</td>\n",
       "      <td>1</td>\n",
       "      <td>1</td>\n",
       "      <td>1</td>\n",
       "      <td>1</td>\n",
       "      <td>1</td>\n",
       "      <td>1</td>\n",
       "    </tr>\n",
       "    <tr>\n",
       "      <th>4</th>\n",
       "      <td>0</td>\n",
       "      <td>0</td>\n",
       "      <td>0</td>\n",
       "      <td>0</td>\n",
       "      <td>0</td>\n",
       "      <td>0</td>\n",
       "      <td>0</td>\n",
       "      <td>0</td>\n",
       "      <td>0</td>\n",
       "      <td>0</td>\n",
       "      <td>...</td>\n",
       "      <td>1</td>\n",
       "      <td>1</td>\n",
       "      <td>1</td>\n",
       "      <td>1</td>\n",
       "      <td>1</td>\n",
       "      <td>1</td>\n",
       "      <td>1</td>\n",
       "      <td>1</td>\n",
       "      <td>1</td>\n",
       "      <td>1</td>\n",
       "    </tr>\n",
       "    <tr>\n",
       "      <th>39</th>\n",
       "      <td>0</td>\n",
       "      <td>0</td>\n",
       "      <td>0</td>\n",
       "      <td>0</td>\n",
       "      <td>0</td>\n",
       "      <td>0</td>\n",
       "      <td>0</td>\n",
       "      <td>0</td>\n",
       "      <td>0</td>\n",
       "      <td>0</td>\n",
       "      <td>...</td>\n",
       "      <td>1</td>\n",
       "      <td>0</td>\n",
       "      <td>1</td>\n",
       "      <td>0</td>\n",
       "      <td>0</td>\n",
       "      <td>1</td>\n",
       "      <td>1</td>\n",
       "      <td>1</td>\n",
       "      <td>1</td>\n",
       "      <td>1</td>\n",
       "    </tr>\n",
       "    <tr>\n",
       "      <th>42</th>\n",
       "      <td>0</td>\n",
       "      <td>0</td>\n",
       "      <td>0</td>\n",
       "      <td>0</td>\n",
       "      <td>0</td>\n",
       "      <td>0</td>\n",
       "      <td>1</td>\n",
       "      <td>0</td>\n",
       "      <td>0</td>\n",
       "      <td>0</td>\n",
       "      <td>...</td>\n",
       "      <td>1</td>\n",
       "      <td>0</td>\n",
       "      <td>1</td>\n",
       "      <td>1</td>\n",
       "      <td>0</td>\n",
       "      <td>1</td>\n",
       "      <td>1</td>\n",
       "      <td>1</td>\n",
       "      <td>1</td>\n",
       "      <td>1</td>\n",
       "    </tr>\n",
       "    <tr>\n",
       "      <th>43</th>\n",
       "      <td>0</td>\n",
       "      <td>0</td>\n",
       "      <td>0</td>\n",
       "      <td>0</td>\n",
       "      <td>0</td>\n",
       "      <td>0</td>\n",
       "      <td>0</td>\n",
       "      <td>0</td>\n",
       "      <td>0</td>\n",
       "      <td>0</td>\n",
       "      <td>...</td>\n",
       "      <td>1</td>\n",
       "      <td>1</td>\n",
       "      <td>1</td>\n",
       "      <td>1</td>\n",
       "      <td>0</td>\n",
       "      <td>1</td>\n",
       "      <td>1</td>\n",
       "      <td>1</td>\n",
       "      <td>1</td>\n",
       "      <td>1</td>\n",
       "    </tr>\n",
       "    <tr>\n",
       "      <th>44</th>\n",
       "      <td>0</td>\n",
       "      <td>0</td>\n",
       "      <td>0</td>\n",
       "      <td>0</td>\n",
       "      <td>0</td>\n",
       "      <td>0</td>\n",
       "      <td>0</td>\n",
       "      <td>0</td>\n",
       "      <td>0</td>\n",
       "      <td>0</td>\n",
       "      <td>...</td>\n",
       "      <td>1</td>\n",
       "      <td>1</td>\n",
       "      <td>1</td>\n",
       "      <td>1</td>\n",
       "      <td>0</td>\n",
       "      <td>1</td>\n",
       "      <td>1</td>\n",
       "      <td>1</td>\n",
       "      <td>1</td>\n",
       "      <td>1</td>\n",
       "    </tr>\n",
       "    <tr>\n",
       "      <th>46</th>\n",
       "      <td>0</td>\n",
       "      <td>0</td>\n",
       "      <td>0</td>\n",
       "      <td>0</td>\n",
       "      <td>0</td>\n",
       "      <td>0</td>\n",
       "      <td>1</td>\n",
       "      <td>0</td>\n",
       "      <td>0</td>\n",
       "      <td>0</td>\n",
       "      <td>...</td>\n",
       "      <td>1</td>\n",
       "      <td>1</td>\n",
       "      <td>1</td>\n",
       "      <td>1</td>\n",
       "      <td>0</td>\n",
       "      <td>1</td>\n",
       "      <td>1</td>\n",
       "      <td>1</td>\n",
       "      <td>1</td>\n",
       "      <td>1</td>\n",
       "    </tr>\n",
       "  </tbody>\n",
       "</table>\n",
       "<p>8 rows × 95 columns</p>\n",
       "</div>"
      ],
      "text/plain": [
       "    MACCSFP16  MACCSFP29  MACCSFP47  MACCSFP48  MACCSFP52  MACCSFP54  \\\n",
       "1           0          0          0          0          0          0   \n",
       "3           0          0          0          0          0          0   \n",
       "4           0          0          0          0          0          0   \n",
       "39          0          0          0          0          0          0   \n",
       "42          0          0          0          0          0          0   \n",
       "43          0          0          0          0          0          0   \n",
       "44          0          0          0          0          0          0   \n",
       "46          0          0          0          0          0          0   \n",
       "\n",
       "    MACCSFP62  MACCSFP65  MACCSFP67  MACCSFP68  ...  MACCSFP156  MACCSFP157  \\\n",
       "1           0          0          0          0  ...           1           0   \n",
       "3           0          0          0          0  ...           1           1   \n",
       "4           0          0          0          0  ...           1           1   \n",
       "39          0          0          0          0  ...           1           0   \n",
       "42          1          0          0          0  ...           1           0   \n",
       "43          0          0          0          0  ...           1           1   \n",
       "44          0          0          0          0  ...           1           1   \n",
       "46          1          0          0          0  ...           1           1   \n",
       "\n",
       "    MACCSFP158  MACCSFP159  MACCSFP160  MACCSFP161  MACCSFP162  MACCSFP163  \\\n",
       "1            1           1           0           1           1           1   \n",
       "3            1           1           1           1           1           1   \n",
       "4            1           1           1           1           1           1   \n",
       "39           1           0           0           1           1           1   \n",
       "42           1           1           0           1           1           1   \n",
       "43           1           1           0           1           1           1   \n",
       "44           1           1           0           1           1           1   \n",
       "46           1           1           0           1           1           1   \n",
       "\n",
       "    MACCSFP164  MACCSFP165  \n",
       "1            1           1  \n",
       "3            1           1  \n",
       "4            1           1  \n",
       "39           1           1  \n",
       "42           1           1  \n",
       "43           1           1  \n",
       "44           1           1  \n",
       "46           1           1  \n",
       "\n",
       "[8 rows x 95 columns]"
      ]
     },
     "execution_count": 11,
     "metadata": {},
     "output_type": "execute_result"
    }
   ],
   "source": [
    "#Import file\n",
    "filename = 'data/MACCS_keys_PETadditives corrected.csv'\n",
    "df = pd.read_csv(filename)\n",
    "\n",
    "#Apply dataset-specific filtering\n",
    "def filter_dataset(df):\n",
    "    \n",
    "    criteria1 = df['Addition Method']==\"A\"\n",
    "    criteria2 = df['Amount Added']==0.25\n",
    "    df_filtered = df[criteria1&criteria2]\n",
    "    \n",
    "    response = \"wet 3 day\"\n",
    "    y = df_filtered[response].values\n",
    "    X = df_filtered.iloc[:,10:].values #descriptors\n",
    "    df_X = df_filtered.iloc[:,10:]\n",
    "    molecules = df_filtered['NAME']\n",
    "    \n",
    "    return df_X, molecules, X, y\n",
    "\n",
    "df_X, molecules, X, y = filter_dataset(df)\n",
    "\n",
    "#Assign labels based on a threshold\n",
    "critical_threshold = 64\n",
    "labels = (y>critical_threshold)*1\n",
    "\n",
    "# Leave only fingerprints with a standard deviation > 0 (i.e. not all 0 or not all 1)\n",
    "maccs_std = df_X.describe().loc['std']\n",
    "df_filtered = df_X.loc[:,(maccs_std > 0)]\n",
    "\n",
    "# high points\n",
    "df_filtered[labels==1]"
   ]
  },
  {
   "cell_type": "markdown",
   "metadata": {},
   "source": [
    "95 fingerprints have a standard deviation greater than zero (non-constant across observations)"
   ]
  },
  {
   "cell_type": "code",
   "execution_count": 12,
   "metadata": {},
   "outputs": [],
   "source": [
    "def featureselection(df_X, labels, rs_lim = 0.5, Fr_lim = 0.5):\n",
    "    \n",
    "    #Matrix with design region values of high points only\n",
    "    high_points = df_X[labels==1]\n",
    "    upperlims = np.max(high_points)\n",
    "    lowerlims = np.min(high_points)\n",
    "    \n",
    "    #Volumetric reduction metric\n",
    "    r_s = (upperlims-lowerlims)/(np.max(df_X)-np.min(df_X))\n",
    "\n",
    "    #Fractional reduction metric\n",
    "    isInRange = (df_X >= lowerlims) == (df_X <= upperlims)\n",
    "    Fr = np.sum(isInRange)/len(labels)\n",
    "    \n",
    "    #Feature selection criteria\n",
    "    a = (r_s < rs_lim) & (Fr < Fr_lim) #Can be changed for sensitivity\n",
    "    bestfeatures = df_X.columns[a]\n",
    "    \n",
    "    return bestfeatures, r_s, Fr\n",
    "\n",
    "#Calculate r_s and F_r for the *whole* dataset, for analysis later\n",
    "_, rs, Fr = featureselection(df_filtered, labels, Fr_lim=0.8)\n"
   ]
  },
  {
   "cell_type": "markdown",
   "metadata": {},
   "source": [
    "Bootstrapping:"
   ]
  },
  {
   "cell_type": "code",
   "execution_count": 13,
   "metadata": {},
   "outputs": [
    {
     "name": "stdout",
     "output_type": "stream",
     "text": [
      "Processing partition number: [1]/39 .............\n",
      "Processing partition number: [2]/39 .............\n",
      "Processing partition number: [3]/39 .............\n",
      "Processing partition number: [4]/39 .............\n",
      "Processing partition number: [5]/39 .............\n",
      "Processing partition number: [6]/39 .............\n",
      "Processing partition number: [7]/39 .............\n",
      "Processing partition number: [8]/39 .............\n",
      "Processing partition number: [9]/39 .............\n",
      "Processing partition number: [10]/39 .............\n",
      "Processing partition number: [11]/39 .............\n",
      "Processing partition number: [12]/39 .............\n",
      "Processing partition number: [13]/39 .............\n",
      "Processing partition number: [14]/39 .............\n",
      "Processing partition number: [15]/39 .............\n",
      "Processing partition number: [16]/39 .............\n",
      "Processing partition number: [17]/39 .............\n",
      "Processing partition number: [18]/39 .............\n",
      "Processing partition number: [19]/39 .............\n",
      "Processing partition number: [20]/39 .............\n",
      "Processing partition number: [21]/39 .............\n",
      "Processing partition number: [22]/39 .............\n",
      "Processing partition number: [23]/39 .............\n",
      "Processing partition number: [24]/39 .............\n",
      "Processing partition number: [25]/39 .............\n",
      "Processing partition number: [26]/39 .............\n",
      "Processing partition number: [27]/39 .............\n",
      "Processing partition number: [28]/39 .............\n",
      "Processing partition number: [29]/39 .............\n",
      "Processing partition number: [30]/39 .............\n",
      "Processing partition number: [31]/39 .............\n",
      "Processing partition number: [32]/39 .............\n",
      "Processing partition number: [33]/39 .............\n",
      "Processing partition number: [34]/39 .............\n",
      "Processing partition number: [35]/39 .............\n",
      "Processing partition number: [36]/39 .............\n",
      "Processing partition number: [37]/39 .............\n",
      "Processing partition number: [38]/39 .............\n",
      "Processing partition number: [39]/39 .............\n",
      "Done\n",
      "['MACCSFP110' 'MACCSFP117' 'MACCSFP124' 'MACCSFP141' 'MACCSFP154'\n",
      " 'MACCSFP162' 'MACCSFP163' 'MACCSFP74' 'MACCSFP86' 'MACCSFP92' 'MACCSFP93'\n",
      " 'MACCSFP98']\n"
     ]
    }
   ],
   "source": [
    "#Perform leave-one-out cross validation to find the true best features\n",
    "loo = LeaveOneOut()\n",
    "\n",
    "df_X.reindex(range(len(labels)))\n",
    "\n",
    "feature_array = np.array([])\n",
    "\n",
    "for train_index, test_index in loo.split(df_X):\n",
    "\n",
    "    X_train, X_test = df_X.iloc[train_index], df_X.iloc[test_index]\n",
    "    y_train, y_test = labels[train_index], labels[test_index]\n",
    "    \n",
    "    #Use Fr < 0.80 criteria for each subset\n",
    "    bestfeatures_i, rs_i, Fr_i = featureselection(X_train, y_train,rs_lim=0.3,Fr_lim=0.8)\n",
    "    feature_array = np.append(feature_array,np.array(bestfeatures_i))\n",
    "    print('Processing partition number: {}/{} .............'.format(test_index+1,loo.get_n_splits(df_X)))\n",
    "print('Done')\n",
    "\n",
    "feature_bin, feature_counts = np.unique(feature_array,return_counts=True)\n",
    "best_features = feature_bin[feature_counts >= 31]\n",
    "print(best_features)"
   ]
  },
  {
   "cell_type": "code",
   "execution_count": 14,
   "metadata": {
    "scrolled": false
   },
   "outputs": [
    {
     "data": {
      "text/plain": [
       "[Text(0, 0.5, '#'), (0.18, 1.02), Text(0.5, 0, '$F_r$')]"
      ]
     },
     "execution_count": 14,
     "metadata": {},
     "output_type": "execute_result"
    },
    {
     "data": {
      "image/png": "[encoded data removed]",
      "text/plain": [
       "<Figure size 864x360 with 2 Axes>"
      ]
     },
     "metadata": {
      "needs_background": "light"
     },
     "output_type": "display_data"
    }
   ],
   "source": [
    "fig, ax = plt.subplots(1,2,figsize=(12,5))\n",
    "ax[0].scatter(rs,Fr,alpha=0.2) #from the whole dataset\n",
    "ax[0].set(xlabel='$r_s$', ylabel='$F_r$', ylim=[0.2,1.02])\n",
    "\n",
    "ax[1].hist(Fr,bins=50)\n",
    "ax[1].set(xlabel='$F_r$',ylabel='#',xlim=[0.18,1.02])"
   ]
  },
  {
   "cell_type": "markdown",
   "metadata": {},
   "source": [
    "Above, we see that we don't get as many feautres that fall toward complete separation ($F_r = 0.20$, since the 20% top performers are high). Below, we perform 2nd order (pairwise considerations) and higher to see if we can reduce the $F_r$ by considering more features simultaneously. To reduced computation time, we only calculate for the fingerprints with $F_r$ < 0.95, since they are more likely to exclude meaningful parts of the dataset."
   ]
  },
  {
   "cell_type": "code",
   "execution_count": 15,
   "metadata": {},
   "outputs": [
    {
     "data": {
      "image/png": "[encoded data removed]",
      "text/plain": [
       "<Figure size 576x504 with 2 Axes>"
      ]
     },
     "metadata": {
      "needs_background": "light"
     },
     "output_type": "display_data"
    }
   ],
   "source": [
    "corr = df_X[best_features].corr()\n",
    "\n",
    "# Generate a mask for the upper triangle\n",
    "mask = np.triu(np.ones_like(corr, dtype=np.bool))\n",
    "\n",
    "# Set up the matplotlib figure\n",
    "f, ax = plt.subplots(figsize=(8,7))\n",
    "sns.heatmap(corr, \n",
    "            mask=mask, \n",
    "            cmap='RdBu', \n",
    "            vmax=1,\n",
    "            vmin=-1,\n",
    "            center=0,\n",
    "            square=True, \n",
    "            linewidths=.8, \n",
    "            cbar_kws={\"shrink\": .75}\n",
    "           );"
   ]
  },
  {
   "cell_type": "markdown",
   "metadata": {},
   "source": [
    "Some fingerprints above are redundant. For example, FP92 describes OC(N)C, while FP110 describes NCO..."
   ]
  },
  {
   "cell_type": "code",
   "execution_count": 16,
   "metadata": {},
   "outputs": [],
   "source": [
    "high_points = df_X.loc[labels==1]\n",
    "\n",
    "upperlims = np.max(high_points)\n",
    "lowerlims = np.min(high_points)\n",
    "isInRange = (df_X >= lowerlims) == (df_X <= upperlims)"
   ]
  },
  {
   "cell_type": "code",
   "execution_count": 17,
   "metadata": {},
   "outputs": [
    {
     "name": "stdout",
     "output_type": "stream",
     "text": [
      "MACCSFP110 MACCSFP98    0.461538\n",
      "MACCSFP92 MACCSFP98     0.461538\n",
      "dtype: float64\n"
     ]
    },
    {
     "data": {
      "text/plain": [
       "[Text(0, 0.5, '#'), (0.18, 1.02), Text(0.5, 0, '$F_r$')]"
      ]
     },
     "execution_count": 17,
     "metadata": {},
     "output_type": "execute_result"
    },
    {
     "data": {
      "image/png": "[encoded data removed]",
      "text/plain": [
       "<Figure size 432x288 with 1 Axes>"
      ]
     },
     "metadata": {
      "needs_background": "light"
     },
     "output_type": "display_data"
    }
   ],
   "source": [
    "cols = isInRange[best_features].columns.values\n",
    "corr_vals = []\n",
    "new_cols = []\n",
    "Fr_vals = []\n",
    "for i in range(len(cols)):\n",
    "    for j in range(i+1,len(cols)):\n",
    "        new_cols.append(cols[i]+' '+cols[j])\n",
    "        comparison = (isInRange[cols[i]] & isInRange[cols[j]])*1\n",
    "        Fr_vals.append(sum(comparison/len(comparison)))\n",
    "        # corr_vals.append(corr.loc[cols[i],cols[j]])\n",
    "Fr_2D = pd.Series(Fr_vals,index=new_cols)\n",
    "\n",
    "best_pairs = Fr_2D[np.isclose(Fr_2D,min(Fr_2D))]\n",
    "print(best_pairs)\n",
    "\n",
    "fig, ax = plt.subplots()\n",
    "ax.hist(Fr_2D,bins=50)\n",
    "ax.set(xlabel='$F_r$',ylabel='#',xlim=[0.18,1.02])"
   ]
  },
  {
   "cell_type": "markdown",
   "metadata": {},
   "source": [
    "When considered in 2D, the lowest possible $F_r$ is  0.46..."
   ]
  },
  {
   "cell_type": "code",
   "execution_count": 18,
   "metadata": {},
   "outputs": [
    {
     "name": "stdout",
     "output_type": "stream",
     "text": [
      "MACCSFP110 MACCSFP162 MACCSFP98    0.384615\n",
      "MACCSFP110 MACCSFP163 MACCSFP98    0.384615\n",
      "MACCSFP117 MACCSFP162 MACCSFP98    0.384615\n",
      "MACCSFP117 MACCSFP163 MACCSFP98    0.384615\n",
      "MACCSFP162 MACCSFP92 MACCSFP98     0.384615\n",
      "MACCSFP163 MACCSFP92 MACCSFP98     0.384615\n",
      "dtype: float64\n"
     ]
    },
    {
     "data": {
      "text/plain": [
       "[Text(0, 0.5, '#'), (0.18, 1.02), Text(0.5, 0, '$F_r$')]"
      ]
     },
     "execution_count": 18,
     "metadata": {},
     "output_type": "execute_result"
    },
    {
     "data": {
      "image/png": "[encoded data removed]",
      "text/plain": [
       "<Figure size 432x288 with 1 Axes>"
      ]
     },
     "metadata": {
      "needs_background": "light"
     },
     "output_type": "display_data"
    }
   ],
   "source": [
    "cols = isInRange[best_features].columns.values\n",
    "corr_vals = []\n",
    "new_cols = []\n",
    "Fr_vals = []\n",
    "for i in range(len(cols)):\n",
    "    for j in range(i+1,len(cols)):\n",
    "        for k in range(j+1,len(cols)):\n",
    "            new_cols.append(cols[i]+' '+cols[j]+' '+cols[k])\n",
    "            comparison = (isInRange[cols[i]] & isInRange[cols[j]] & isInRange[cols[k]])*1\n",
    "            Fr_vals.append(sum(comparison/len(comparison)))\n",
    "            # corr_vals.append(corr.loc[cols[i],cols[j]])\n",
    "Fr_3D = pd.Series(Fr_vals,index=new_cols)\n",
    "\n",
    "best_trips = Fr_3D[np.isclose(Fr_3D,min(Fr_3D))]\n",
    "print(best_trips)\n",
    "\n",
    "fig, ax = plt.subplots()\n",
    "ax.hist(Fr_3D,bins=50)\n",
    "ax.set(xlabel='$F_r$',ylabel='#',xlim=[0.18,1.02])"
   ]
  },
  {
   "cell_type": "markdown",
   "metadata": {},
   "source": [
    "When considered in 3D, the lowest possible $F_r$ is  0.38..."
   ]
  },
  {
   "cell_type": "code",
   "execution_count": 19,
   "metadata": {},
   "outputs": [
    {
     "data": {
      "text/plain": [
       "[Text(0, 0.5, '#'), (0.18, 1.02), Text(0.5, 0, '$F_r$')]"
      ]
     },
     "execution_count": 19,
     "metadata": {},
     "output_type": "execute_result"
    },
    {
     "data": {
      "image/png": "[encoded data removed]",
      "text/plain": [
       "<Figure size 432x288 with 1 Axes>"
      ]
     },
     "metadata": {
      "needs_background": "light"
     },
     "output_type": "display_data"
    }
   ],
   "source": [
    "cols = isInRange[best_features].columns.values\n",
    "corr_vals = []\n",
    "new_cols = []\n",
    "Fr_vals = []\n",
    "for i in range(len(cols)):\n",
    "    for j in range(i+1,len(cols)):\n",
    "        for k in range(j+1,len(cols)):\n",
    "            for l in range(k+1,len(cols)):\n",
    "                new_cols.append(cols[i]+' '+cols[j]+' '+cols[k]+' '+cols[l])\n",
    "                comparison = (isInRange[cols[i]] & isInRange[cols[j]] & isInRange[cols[k]] & isInRange[cols[l]])*1\n",
    "                Fr_vals.append(sum(comparison/len(comparison)))\n",
    "                # corr_vals.append(corr.loc[cols[i],cols[j]])\n",
    "Fr_4D = pd.Series(Fr_vals,index=new_cols)\n",
    "\n",
    "best_quads = Fr_4D[np.isclose(Fr_4D,min(Fr_4D))]\n",
    "# print(best_quads)\n",
    "\n",
    "fig, ax = plt.subplots()\n",
    "ax.hist(Fr_4D,bins=50)\n",
    "ax.set(xlabel='$F_r$',ylabel='#',xlim=[0.18,1.02])"
   ]
  },
  {
   "cell_type": "markdown",
   "metadata": {},
   "source": [
    "...and we do not get any improvement by going toward 4 fingerprint combinations. Here, we choose FP92, FP98, and FP162 as a sample best feature set for the MACCS-166 set, and GATS4i, SIC4, and GATS6s for the alvaDesc set. In the *Classifier Construction and Candidate Predictions* notebook, we construct and evaluate our models."
   ]
  }
 ],
 "metadata": {
  "kernelspec": {
   "display_name": "Python 3",
   "language": "python",
   "name": "python3"
  },
  "language_info": {
   "codemirror_mode": {
    "name": "ipython",
    "version": 3
   },
   "file_extension": ".py",
   "mimetype": "text/x-python",
   "name": "python",
   "nbconvert_exporter": "python",
   "pygments_lexer": "ipython3",
   "version": "3.7.6"
  }
 },
 "nbformat": 4,
 "nbformat_minor": 4
}
